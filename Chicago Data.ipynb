{
 "cells": [
  {
   "cell_type": "code",
   "execution_count": 1,
   "metadata": {},
   "outputs": [],
   "source": [
    "%load_ext sql"
   ]
  },
  {
   "cell_type": "code",
   "execution_count": 2,
   "metadata": {},
   "outputs": [
    {
     "data": {
      "text/plain": [
       "'Connected: hqf25277@BLUDB'"
      ]
     },
     "execution_count": 2,
     "metadata": {},
     "output_type": "execute_result"
    }
   ],
   "source": [
    "%sql ibm_db_sa://hqf25277:cs9p4kw5jwfv-rb6@dashdb-txn-sbox-yp-lon02-04.services.eu-gb.bluemix.net:50000/BLUDB"
   ]
  },
  {
   "cell_type": "code",
   "execution_count": 6,
   "metadata": {},
   "outputs": [
    {
     "name": "stdout",
     "output_type": "stream",
     "text": [
      " * ibm_db_sa://hqf25277:***@dashdb-txn-sbox-yp-lon02-04.services.eu-gb.bluemix.net:50000/BLUDB\n",
      "Done.\n"
     ]
    },
    {
     "data": {
      "text/html": [
       "<table>\n",
       "    <thead>\n",
       "        <tr>\n",
       "            <th>1</th>\n",
       "        </tr>\n",
       "    </thead>\n",
       "    <tbody>\n",
       "        <tr>\n",
       "            <td>7264655</td>\n",
       "        </tr>\n",
       "    </tbody>\n",
       "</table>"
      ],
      "text/plain": [
       "[(Decimal('7264655'),)]"
      ]
     },
     "execution_count": 6,
     "metadata": {},
     "output_type": "execute_result"
    }
   ],
   "source": [
    "# Rows in Crime Table\n",
    "%sql select count(*) from CHICAGO_CRIME_DATA"
   ]
  },
  {
   "cell_type": "code",
   "execution_count": 7,
   "metadata": {},
   "outputs": [
    {
     "name": "stdout",
     "output_type": "stream",
     "text": [
      " * ibm_db_sa://hqf25277:***@dashdb-txn-sbox-yp-lon02-04.services.eu-gb.bluemix.net:50000/BLUDB\n",
      "Done.\n"
     ]
    },
    {
     "data": {
      "text/html": [
       "<table>\n",
       "    <thead>\n",
       "        <tr>\n",
       "            <th>id</th>\n",
       "            <th>Case_Number</th>\n",
       "            <th>Date</th>\n",
       "            <th>Block</th>\n",
       "            <th>iucr</th>\n",
       "            <th>Primary_Type</th>\n",
       "            <th>Description</th>\n",
       "            <th>Location_Description</th>\n",
       "            <th>Arrest</th>\n",
       "            <th>Domestic</th>\n",
       "            <th>Beat</th>\n",
       "            <th>District</th>\n",
       "            <th>Ward</th>\n",
       "            <th>Community_Area</th>\n",
       "            <th>FBI_Code</th>\n",
       "            <th>X_Coordinate</th>\n",
       "            <th>Y_Coordinate</th>\n",
       "            <th>Year</th>\n",
       "            <th>Updated_On</th>\n",
       "            <th>Latitude</th>\n",
       "            <th>Longitude</th>\n",
       "            <th>Location</th>\n",
       "        </tr>\n",
       "    </thead>\n",
       "    <tbody>\n",
       "        <tr>\n",
       "            <td>10224738</td>\n",
       "            <td>HY411648</td>\n",
       "            <td>09/05/2015 01:30:00 PM</td>\n",
       "            <td>043XX S WOOD ST</td>\n",
       "            <td>0486</td>\n",
       "            <td>BATTERY</td>\n",
       "            <td>DOMESTIC BATTERY SIMPLE</td>\n",
       "            <td>RESIDENCE</td>\n",
       "            <td>false</td>\n",
       "            <td>true</td>\n",
       "            <td>924</td>\n",
       "            <td>9</td>\n",
       "            <td>12</td>\n",
       "            <td>61</td>\n",
       "            <td>08B</td>\n",
       "            <td>1165074</td>\n",
       "            <td>1875917</td>\n",
       "            <td>2015</td>\n",
       "            <td>02/10/2018 03:50:01 PM</td>\n",
       "            <td>41.815117282</td>\n",
       "            <td>-87.669999562</td>\n",
       "            <td>(41.815117282, -87.669999562)</td>\n",
       "        </tr>\n",
       "        <tr>\n",
       "            <td>10224739</td>\n",
       "            <td>HY411615</td>\n",
       "            <td>09/04/2015 11:30:00 AM</td>\n",
       "            <td>008XX N CENTRAL AVE</td>\n",
       "            <td>0870</td>\n",
       "            <td>THEFT</td>\n",
       "            <td>POCKET-PICKING</td>\n",
       "            <td>CTA BUS</td>\n",
       "            <td>false</td>\n",
       "            <td>false</td>\n",
       "            <td>1511</td>\n",
       "            <td>15</td>\n",
       "            <td>29</td>\n",
       "            <td>25</td>\n",
       "            <td>06</td>\n",
       "            <td>1138875</td>\n",
       "            <td>1904869</td>\n",
       "            <td>2015</td>\n",
       "            <td>02/10/2018 03:50:01 PM</td>\n",
       "            <td>41.895080471</td>\n",
       "            <td>-87.765400451</td>\n",
       "            <td>(41.895080471, -87.765400451)</td>\n",
       "        </tr>\n",
       "        <tr>\n",
       "            <td>11646166</td>\n",
       "            <td>JC213529</td>\n",
       "            <td>09/01/2018 12:01:00 AM</td>\n",
       "            <td>082XX S INGLESIDE AVE</td>\n",
       "            <td>0810</td>\n",
       "            <td>THEFT</td>\n",
       "            <td>OVER $500</td>\n",
       "            <td>RESIDENCE</td>\n",
       "            <td>false</td>\n",
       "            <td>true</td>\n",
       "            <td>631</td>\n",
       "            <td>6</td>\n",
       "            <td>8</td>\n",
       "            <td>44</td>\n",
       "            <td>06</td>\n",
       "            <td>None</td>\n",
       "            <td>None</td>\n",
       "            <td>2018</td>\n",
       "            <td>04/06/2019 04:04:43 PM</td>\n",
       "            <td>None</td>\n",
       "            <td>None</td>\n",
       "            <td>None</td>\n",
       "        </tr>\n",
       "        <tr>\n",
       "            <td>10224740</td>\n",
       "            <td>HY411595</td>\n",
       "            <td>09/05/2015 12:45:00 PM</td>\n",
       "            <td>035XX W BARRY AVE</td>\n",
       "            <td>2023</td>\n",
       "            <td>NARCOTICS</td>\n",
       "            <td>POSS: HEROIN(BRN/TAN)</td>\n",
       "            <td>SIDEWALK</td>\n",
       "            <td>true</td>\n",
       "            <td>false</td>\n",
       "            <td>1412</td>\n",
       "            <td>14</td>\n",
       "            <td>35</td>\n",
       "            <td>21</td>\n",
       "            <td>18</td>\n",
       "            <td>1152037</td>\n",
       "            <td>1920384</td>\n",
       "            <td>2015</td>\n",
       "            <td>02/10/2018 03:50:01 PM</td>\n",
       "            <td>41.937405765</td>\n",
       "            <td>-87.716649687</td>\n",
       "            <td>(41.937405765, -87.716649687)</td>\n",
       "        </tr>\n",
       "        <tr>\n",
       "            <td>10224741</td>\n",
       "            <td>HY411610</td>\n",
       "            <td>09/05/2015 01:00:00 PM</td>\n",
       "            <td>0000X N LARAMIE AVE</td>\n",
       "            <td>0560</td>\n",
       "            <td>ASSAULT</td>\n",
       "            <td>SIMPLE</td>\n",
       "            <td>APARTMENT</td>\n",
       "            <td>false</td>\n",
       "            <td>true</td>\n",
       "            <td>1522</td>\n",
       "            <td>15</td>\n",
       "            <td>28</td>\n",
       "            <td>25</td>\n",
       "            <td>08A</td>\n",
       "            <td>1141706</td>\n",
       "            <td>1900086</td>\n",
       "            <td>2015</td>\n",
       "            <td>02/10/2018 03:50:01 PM</td>\n",
       "            <td>41.881903443</td>\n",
       "            <td>-87.755121152</td>\n",
       "            <td>(41.881903443, -87.755121152)</td>\n",
       "        </tr>\n",
       "        <tr>\n",
       "            <td>10224742</td>\n",
       "            <td>HY411435</td>\n",
       "            <td>09/05/2015 10:55:00 AM</td>\n",
       "            <td>082XX S LOOMIS BLVD</td>\n",
       "            <td>0610</td>\n",
       "            <td>BURGLARY</td>\n",
       "            <td>FORCIBLE ENTRY</td>\n",
       "            <td>RESIDENCE</td>\n",
       "            <td>false</td>\n",
       "            <td>false</td>\n",
       "            <td>614</td>\n",
       "            <td>6</td>\n",
       "            <td>21</td>\n",
       "            <td>71</td>\n",
       "            <td>05</td>\n",
       "            <td>1168430</td>\n",
       "            <td>1850165</td>\n",
       "            <td>2015</td>\n",
       "            <td>02/10/2018 03:50:01 PM</td>\n",
       "            <td>41.744378879</td>\n",
       "            <td>-87.658430635</td>\n",
       "            <td>(41.744378879, -87.658430635)</td>\n",
       "        </tr>\n",
       "        <tr>\n",
       "            <td>10224743</td>\n",
       "            <td>HY411629</td>\n",
       "            <td>09/04/2015 06:00:00 PM</td>\n",
       "            <td>021XX W CHURCHILL ST</td>\n",
       "            <td>0620</td>\n",
       "            <td>BURGLARY</td>\n",
       "            <td>UNLAWFUL ENTRY</td>\n",
       "            <td>RESIDENCE-GARAGE</td>\n",
       "            <td>false</td>\n",
       "            <td>false</td>\n",
       "            <td>1434</td>\n",
       "            <td>14</td>\n",
       "            <td>32</td>\n",
       "            <td>24</td>\n",
       "            <td>05</td>\n",
       "            <td>1161628</td>\n",
       "            <td>1912157</td>\n",
       "            <td>2015</td>\n",
       "            <td>02/10/2018 03:50:01 PM</td>\n",
       "            <td>41.914635603</td>\n",
       "            <td>-87.681630909</td>\n",
       "            <td>(41.914635603, -87.681630909)</td>\n",
       "        </tr>\n",
       "        <tr>\n",
       "            <td>10224744</td>\n",
       "            <td>HY411605</td>\n",
       "            <td>09/05/2015 01:00:00 PM</td>\n",
       "            <td>025XX W CERMAK RD</td>\n",
       "            <td>0860</td>\n",
       "            <td>THEFT</td>\n",
       "            <td>RETAIL THEFT</td>\n",
       "            <td>GROCERY FOOD STORE</td>\n",
       "            <td>true</td>\n",
       "            <td>false</td>\n",
       "            <td>1034</td>\n",
       "            <td>10</td>\n",
       "            <td>25</td>\n",
       "            <td>31</td>\n",
       "            <td>06</td>\n",
       "            <td>1159734</td>\n",
       "            <td>1889313</td>\n",
       "            <td>2015</td>\n",
       "            <td>09/17/2015 11:37:18 AM</td>\n",
       "            <td>41.851988885</td>\n",
       "            <td>-87.689219118</td>\n",
       "            <td>(41.851988885, -87.689219118)</td>\n",
       "        </tr>\n",
       "        <tr>\n",
       "            <td>10224745</td>\n",
       "            <td>HY411654</td>\n",
       "            <td>09/05/2015 11:30:00 AM</td>\n",
       "            <td>031XX W WASHINGTON BLVD</td>\n",
       "            <td>0320</td>\n",
       "            <td>ROBBERY</td>\n",
       "            <td>STRONGARM - NO WEAPON</td>\n",
       "            <td>STREET</td>\n",
       "            <td>false</td>\n",
       "            <td>true</td>\n",
       "            <td>1222</td>\n",
       "            <td>12</td>\n",
       "            <td>27</td>\n",
       "            <td>27</td>\n",
       "            <td>03</td>\n",
       "            <td>1155536</td>\n",
       "            <td>1900515</td>\n",
       "            <td>2015</td>\n",
       "            <td>02/10/2018 03:50:01 PM</td>\n",
       "            <td>41.882813740</td>\n",
       "            <td>-87.704325717</td>\n",
       "            <td>(41.88281374, -87.704325717)</td>\n",
       "        </tr>\n",
       "        <tr>\n",
       "            <td>11645836</td>\n",
       "            <td>JC212333</td>\n",
       "            <td>05/01/2016 12:25:00 AM</td>\n",
       "            <td>055XX S ROCKWELL ST</td>\n",
       "            <td>1153</td>\n",
       "            <td>DECEPTIVE PRACTICE</td>\n",
       "            <td>FINANCIAL IDENTITY THEFT OVER $ 300</td>\n",
       "            <td>None</td>\n",
       "            <td>false</td>\n",
       "            <td>false</td>\n",
       "            <td>824</td>\n",
       "            <td>8</td>\n",
       "            <td>15</td>\n",
       "            <td>63</td>\n",
       "            <td>11</td>\n",
       "            <td>None</td>\n",
       "            <td>None</td>\n",
       "            <td>2016</td>\n",
       "            <td>04/06/2019 04:04:43 PM</td>\n",
       "            <td>None</td>\n",
       "            <td>None</td>\n",
       "            <td>None</td>\n",
       "        </tr>\n",
       "    </tbody>\n",
       "</table>"
      ],
      "text/plain": [
       "[(10224738, 'HY411648', '09/05/2015 01:30:00 PM', '043XX S WOOD ST', '0486', 'BATTERY', 'DOMESTIC BATTERY SIMPLE', 'RESIDENCE', 'false', 'true', 924, 9, 12, 61, '08B', 1165074, 1875917, 2015, '02/10/2018 03:50:01 PM', Decimal('41.815117282'), Decimal('-87.669999562'), '(41.815117282, -87.669999562)'),\n",
       " (10224739, 'HY411615', '09/04/2015 11:30:00 AM', '008XX N CENTRAL AVE', '0870', 'THEFT', 'POCKET-PICKING', 'CTA BUS', 'false', 'false', 1511, 15, 29, 25, '06', 1138875, 1904869, 2015, '02/10/2018 03:50:01 PM', Decimal('41.895080471'), Decimal('-87.765400451'), '(41.895080471, -87.765400451)'),\n",
       " (11646166, 'JC213529', '09/01/2018 12:01:00 AM', '082XX S INGLESIDE AVE', '0810', 'THEFT', 'OVER $500', 'RESIDENCE', 'false', 'true', 631, 6, 8, 44, '06', None, None, 2018, '04/06/2019 04:04:43 PM', None, None, None),\n",
       " (10224740, 'HY411595', '09/05/2015 12:45:00 PM', '035XX W BARRY AVE', '2023', 'NARCOTICS', 'POSS: HEROIN(BRN/TAN)', 'SIDEWALK', 'true', 'false', 1412, 14, 35, 21, '18', 1152037, 1920384, 2015, '02/10/2018 03:50:01 PM', Decimal('41.937405765'), Decimal('-87.716649687'), '(41.937405765, -87.716649687)'),\n",
       " (10224741, 'HY411610', '09/05/2015 01:00:00 PM', '0000X N LARAMIE AVE', '0560', 'ASSAULT', 'SIMPLE', 'APARTMENT', 'false', 'true', 1522, 15, 28, 25, '08A', 1141706, 1900086, 2015, '02/10/2018 03:50:01 PM', Decimal('41.881903443'), Decimal('-87.755121152'), '(41.881903443, -87.755121152)'),\n",
       " (10224742, 'HY411435', '09/05/2015 10:55:00 AM', '082XX S LOOMIS BLVD', '0610', 'BURGLARY', 'FORCIBLE ENTRY', 'RESIDENCE', 'false', 'false', 614, 6, 21, 71, '05', 1168430, 1850165, 2015, '02/10/2018 03:50:01 PM', Decimal('41.744378879'), Decimal('-87.658430635'), '(41.744378879, -87.658430635)'),\n",
       " (10224743, 'HY411629', '09/04/2015 06:00:00 PM', '021XX W CHURCHILL ST', '0620', 'BURGLARY', 'UNLAWFUL ENTRY', 'RESIDENCE-GARAGE', 'false', 'false', 1434, 14, 32, 24, '05', 1161628, 1912157, 2015, '02/10/2018 03:50:01 PM', Decimal('41.914635603'), Decimal('-87.681630909'), '(41.914635603, -87.681630909)'),\n",
       " (10224744, 'HY411605', '09/05/2015 01:00:00 PM', '025XX W CERMAK RD', '0860', 'THEFT', 'RETAIL THEFT', 'GROCERY FOOD STORE', 'true', 'false', 1034, 10, 25, 31, '06', 1159734, 1889313, 2015, '09/17/2015 11:37:18 AM', Decimal('41.851988885'), Decimal('-87.689219118'), '(41.851988885, -87.689219118)'),\n",
       " (10224745, 'HY411654', '09/05/2015 11:30:00 AM', '031XX W WASHINGTON BLVD', '0320', 'ROBBERY', 'STRONGARM - NO WEAPON', 'STREET', 'false', 'true', 1222, 12, 27, 27, '03', 1155536, 1900515, 2015, '02/10/2018 03:50:01 PM', Decimal('41.882813740'), Decimal('-87.704325717'), '(41.88281374, -87.704325717)'),\n",
       " (11645836, 'JC212333', '05/01/2016 12:25:00 AM', '055XX S ROCKWELL ST', '1153', 'DECEPTIVE PRACTICE', 'FINANCIAL IDENTITY THEFT OVER $ 300', None, 'false', 'false', 824, 8, 15, 63, '11', None, None, 2016, '04/06/2019 04:04:43 PM', None, None, None)]"
      ]
     },
     "execution_count": 7,
     "metadata": {},
     "output_type": "execute_result"
    }
   ],
   "source": [
    "%sql select * from CHICAGO_CRIME_DATA limit 10"
   ]
  },
  {
   "cell_type": "code",
   "execution_count": 11,
   "metadata": {},
   "outputs": [
    {
     "name": "stdout",
     "output_type": "stream",
     "text": [
      " * ibm_db_sa://hqf25277:***@dashdb-txn-sbox-yp-lon02-04.services.eu-gb.bluemix.net:50000/BLUDB\n",
      "Done.\n"
     ]
    },
    {
     "data": {
      "text/html": [
       "<table>\n",
       "    <thead>\n",
       "        <tr>\n",
       "            <th>1</th>\n",
       "        </tr>\n",
       "    </thead>\n",
       "    <tbody>\n",
       "        <tr>\n",
       "            <td>1971385</td>\n",
       "        </tr>\n",
       "    </tbody>\n",
       "</table>"
      ],
      "text/plain": [
       "[(Decimal('1971385'),)]"
      ]
     },
     "execution_count": 11,
     "metadata": {},
     "output_type": "execute_result"
    }
   ],
   "source": [
    "%%sql \n",
    "select count(*)\n",
    "from CHICAGO_CRIME_DATA\n",
    "where \"Arrest\"='true'"
   ]
  },
  {
   "cell_type": "code",
   "execution_count": 15,
   "metadata": {},
   "outputs": [
    {
     "name": "stdout",
     "output_type": "stream",
     "text": [
      " * ibm_db_sa://hqf25277:***@dashdb-txn-sbox-yp-lon02-04.services.eu-gb.bluemix.net:50000/BLUDB\n",
      "Done.\n"
     ]
    },
    {
     "data": {
      "text/html": [
       "<table>\n",
       "    <thead>\n",
       "        <tr>\n",
       "            <th>Primary_Type</th>\n",
       "        </tr>\n",
       "    </thead>\n",
       "    <tbody>\n",
       "        <tr>\n",
       "            <td>ARSON</td>\n",
       "        </tr>\n",
       "        <tr>\n",
       "            <td>ASSAULT</td>\n",
       "        </tr>\n",
       "        <tr>\n",
       "            <td>BATTERY</td>\n",
       "        </tr>\n",
       "        <tr>\n",
       "            <td>BURGLARY</td>\n",
       "        </tr>\n",
       "        <tr>\n",
       "            <td>CONCEALED CARRY LICENSE VIOLATION</td>\n",
       "        </tr>\n",
       "        <tr>\n",
       "            <td>CRIM SEXUAL ASSAULT</td>\n",
       "        </tr>\n",
       "        <tr>\n",
       "            <td>CRIMINAL DAMAGE</td>\n",
       "        </tr>\n",
       "        <tr>\n",
       "            <td>CRIMINAL SEXUAL ASSAULT</td>\n",
       "        </tr>\n",
       "        <tr>\n",
       "            <td>CRIMINAL TRESPASS</td>\n",
       "        </tr>\n",
       "        <tr>\n",
       "            <td>DECEPTIVE PRACTICE</td>\n",
       "        </tr>\n",
       "        <tr>\n",
       "            <td>GAMBLING</td>\n",
       "        </tr>\n",
       "        <tr>\n",
       "            <td>HOMICIDE</td>\n",
       "        </tr>\n",
       "        <tr>\n",
       "            <td>INTERFERENCE WITH PUBLIC OFFICER</td>\n",
       "        </tr>\n",
       "        <tr>\n",
       "            <td>INTIMIDATION</td>\n",
       "        </tr>\n",
       "        <tr>\n",
       "            <td>KIDNAPPING</td>\n",
       "        </tr>\n",
       "        <tr>\n",
       "            <td>LIQUOR LAW VIOLATION</td>\n",
       "        </tr>\n",
       "        <tr>\n",
       "            <td>MOTOR VEHICLE THEFT</td>\n",
       "        </tr>\n",
       "        <tr>\n",
       "            <td>NARCOTICS</td>\n",
       "        </tr>\n",
       "        <tr>\n",
       "            <td>OBSCENITY</td>\n",
       "        </tr>\n",
       "        <tr>\n",
       "            <td>OFFENSE INVOLVING CHILDREN</td>\n",
       "        </tr>\n",
       "        <tr>\n",
       "            <td>OTHER OFFENSE</td>\n",
       "        </tr>\n",
       "        <tr>\n",
       "            <td>PROSTITUTION</td>\n",
       "        </tr>\n",
       "        <tr>\n",
       "            <td>PUBLIC INDECENCY</td>\n",
       "        </tr>\n",
       "        <tr>\n",
       "            <td>PUBLIC PEACE VIOLATION</td>\n",
       "        </tr>\n",
       "        <tr>\n",
       "            <td>ROBBERY</td>\n",
       "        </tr>\n",
       "        <tr>\n",
       "            <td>SEX OFFENSE</td>\n",
       "        </tr>\n",
       "        <tr>\n",
       "            <td>STALKING</td>\n",
       "        </tr>\n",
       "        <tr>\n",
       "            <td>THEFT</td>\n",
       "        </tr>\n",
       "        <tr>\n",
       "            <td>WEAPONS VIOLATION</td>\n",
       "        </tr>\n",
       "    </tbody>\n",
       "</table>"
      ],
      "text/plain": [
       "[('ARSON',),\n",
       " ('ASSAULT',),\n",
       " ('BATTERY',),\n",
       " ('BURGLARY',),\n",
       " ('CONCEALED CARRY LICENSE VIOLATION',),\n",
       " ('CRIM SEXUAL ASSAULT',),\n",
       " ('CRIMINAL DAMAGE',),\n",
       " ('CRIMINAL SEXUAL ASSAULT',),\n",
       " ('CRIMINAL TRESPASS',),\n",
       " ('DECEPTIVE PRACTICE',),\n",
       " ('GAMBLING',),\n",
       " ('HOMICIDE',),\n",
       " ('INTERFERENCE WITH PUBLIC OFFICER',),\n",
       " ('INTIMIDATION',),\n",
       " ('KIDNAPPING',),\n",
       " ('LIQUOR LAW VIOLATION',),\n",
       " ('MOTOR VEHICLE THEFT',),\n",
       " ('NARCOTICS',),\n",
       " ('OBSCENITY',),\n",
       " ('OFFENSE INVOLVING CHILDREN',),\n",
       " ('OTHER OFFENSE',),\n",
       " ('PROSTITUTION',),\n",
       " ('PUBLIC INDECENCY',),\n",
       " ('PUBLIC PEACE VIOLATION',),\n",
       " ('ROBBERY',),\n",
       " ('SEX OFFENSE',),\n",
       " ('STALKING',),\n",
       " ('THEFT',),\n",
       " ('WEAPONS VIOLATION',)]"
      ]
     },
     "execution_count": 15,
     "metadata": {},
     "output_type": "execute_result"
    }
   ],
   "source": [
    "%%sql \n",
    "select Distinct(\"Primary_Type\") \n",
    "from CHICAGO_CRIME_DATA \n",
    "WHERE \"Location_Description\" ='GAS STATION'"
   ]
  },
  {
   "cell_type": "code",
   "execution_count": 16,
   "metadata": {},
   "outputs": [
    {
     "name": "stdout",
     "output_type": "stream",
     "text": [
      " * ibm_db_sa://hqf25277:***@dashdb-txn-sbox-yp-lon02-04.services.eu-gb.bluemix.net:50000/BLUDB\n",
      "Done.\n"
     ]
    },
    {
     "data": {
      "text/html": [
       "<table>\n",
       "    <thead>\n",
       "        <tr>\n",
       "            <th>community_area_number</th>\n",
       "            <th>community_area_name</th>\n",
       "            <th>percent_of_housing_crowded</th>\n",
       "            <th>percent_households_below_poverty</th>\n",
       "            <th>percent_aged_16__unemployed</th>\n",
       "            <th>percent_aged_25__without_high_school_diploma</th>\n",
       "            <th>percent_aged_under_18_or_over_64</th>\n",
       "            <th>per_capita_income</th>\n",
       "            <th>hardship_index</th>\n",
       "        </tr>\n",
       "    </thead>\n",
       "    <tbody>\n",
       "        <tr>\n",
       "            <td>19</td>\n",
       "            <td>Belmont Cragin</td>\n",
       "            <td>10.8</td>\n",
       "            <td>18.7</td>\n",
       "            <td>14.6</td>\n",
       "            <td>37.3</td>\n",
       "            <td>37.3</td>\n",
       "            <td>15461</td>\n",
       "            <td>70</td>\n",
       "        </tr>\n",
       "        <tr>\n",
       "            <td>47</td>\n",
       "            <td>Burnside</td>\n",
       "            <td>6.8</td>\n",
       "            <td>33.0</td>\n",
       "            <td>18.6</td>\n",
       "            <td>19.3</td>\n",
       "            <td>42.7</td>\n",
       "            <td>12515</td>\n",
       "            <td>79</td>\n",
       "        </tr>\n",
       "        <tr>\n",
       "            <td>58</td>\n",
       "            <td>Brighton Park</td>\n",
       "            <td>14.4</td>\n",
       "            <td>23.6</td>\n",
       "            <td>13.9</td>\n",
       "            <td>45.1</td>\n",
       "            <td>39.3</td>\n",
       "            <td>13089</td>\n",
       "            <td>84</td>\n",
       "        </tr>\n",
       "        <tr>\n",
       "            <td>60</td>\n",
       "            <td>Bridgeport</td>\n",
       "            <td>4.5</td>\n",
       "            <td>18.9</td>\n",
       "            <td>13.7</td>\n",
       "            <td>22.2</td>\n",
       "            <td>31.3</td>\n",
       "            <td>22694</td>\n",
       "            <td>43</td>\n",
       "        </tr>\n",
       "        <tr>\n",
       "            <td>72</td>\n",
       "            <td>Beverly</td>\n",
       "            <td>0.9</td>\n",
       "            <td>5.1</td>\n",
       "            <td>8.0</td>\n",
       "            <td>3.7</td>\n",
       "            <td>40.5</td>\n",
       "            <td>39523</td>\n",
       "            <td>12</td>\n",
       "        </tr>\n",
       "    </tbody>\n",
       "</table>"
      ],
      "text/plain": [
       "[(19, 'Belmont Cragin', Decimal('10.8'), Decimal('18.7'), Decimal('14.6'), Decimal('37.3'), Decimal('37.3'), 15461, 70),\n",
       " (47, 'Burnside', Decimal('6.8'), Decimal('33.0'), Decimal('18.6'), Decimal('19.3'), Decimal('42.7'), 12515, 79),\n",
       " (58, 'Brighton Park', Decimal('14.4'), Decimal('23.6'), Decimal('13.9'), Decimal('45.1'), Decimal('39.3'), 13089, 84),\n",
       " (60, 'Bridgeport', Decimal('4.5'), Decimal('18.9'), Decimal('13.7'), Decimal('22.2'), Decimal('31.3'), 22694, 43),\n",
       " (72, 'Beverly', Decimal('0.9'), Decimal('5.1'), Decimal('8.0'), Decimal('3.7'), Decimal('40.5'), 39523, 12)]"
      ]
     },
     "execution_count": 16,
     "metadata": {},
     "output_type": "execute_result"
    }
   ],
   "source": [
    "%sql select * from CENSUS_DATA where community_area_name like 'B%'"
   ]
  },
  {
   "cell_type": "code",
   "execution_count": 17,
   "metadata": {},
   "outputs": [
    {
     "name": "stdout",
     "output_type": "stream",
     "text": [
      " * ibm_db_sa://hqf25277:***@dashdb-txn-sbox-yp-lon02-04.services.eu-gb.bluemix.net:50000/BLUDB\n",
      "Done.\n"
     ]
    },
    {
     "data": {
      "text/html": [
       "<table>\n",
       "    <thead>\n",
       "        <tr>\n",
       "            <th>name_of_school</th>\n",
       "        </tr>\n",
       "    </thead>\n",
       "    <tbody>\n",
       "        <tr>\n",
       "            <td>Rufus M Hitch Elementary School</td>\n",
       "        </tr>\n",
       "    </tbody>\n",
       "</table>"
      ],
      "text/plain": [
       "[('Rufus M Hitch Elementary School',)]"
      ]
     },
     "execution_count": 17,
     "metadata": {},
     "output_type": "execute_result"
    }
   ],
   "source": [
    "%sql select name_of_school from CHICAGO_PUBLIC_SCHOOL where community_area_number >= 10 and community_area_number <=15 and healthy_school_certified = 'Yes'"
   ]
  },
  {
   "cell_type": "code",
   "execution_count": 18,
   "metadata": {},
   "outputs": [
    {
     "name": "stdout",
     "output_type": "stream",
     "text": [
      " * ibm_db_sa://hqf25277:***@dashdb-txn-sbox-yp-lon02-04.services.eu-gb.bluemix.net:50000/BLUDB\n",
      "Done.\n"
     ]
    },
    {
     "data": {
      "text/html": [
       "<table>\n",
       "    <thead>\n",
       "        <tr>\n",
       "            <th>avg_safety_score</th>\n",
       "        </tr>\n",
       "    </thead>\n",
       "    <tbody>\n",
       "        <tr>\n",
       "            <td>49.504873</td>\n",
       "        </tr>\n",
       "    </tbody>\n",
       "</table>"
      ],
      "text/plain": [
       "[(Decimal('49.504873'),)]"
      ]
     },
     "execution_count": 18,
     "metadata": {},
     "output_type": "execute_result"
    }
   ],
   "source": [
    "%sql select avg(safety_score) as avg_safety_score from CHICAGO_PUBLIC_SCHOOL"
   ]
  },
  {
   "cell_type": "code",
   "execution_count": 25,
   "metadata": {},
   "outputs": [
    {
     "name": "stdout",
     "output_type": "stream",
     "text": [
      " * ibm_db_sa://hqf25277:***@dashdb-txn-sbox-yp-lon02-04.services.eu-gb.bluemix.net:50000/BLUDB\n",
      "Done.\n"
     ]
    },
    {
     "data": {
      "text/html": [
       "<table>\n",
       "    <thead>\n",
       "        <tr>\n",
       "            <th>community_area_number</th>\n",
       "            <th>community_area_name</th>\n",
       "            <th>total_amount_of_schools</th>\n",
       "            <th>average_college_enrollment</th>\n",
       "        </tr>\n",
       "    </thead>\n",
       "    <tbody>\n",
       "        <tr>\n",
       "            <td>57</td>\n",
       "            <td>ARCHER HEIGHTS</td>\n",
       "            <td>2</td>\n",
       "            <td>2411.500000</td>\n",
       "        </tr>\n",
       "        <tr>\n",
       "            <td>18</td>\n",
       "            <td>MONTCLARE</td>\n",
       "            <td>1</td>\n",
       "            <td>1317.000000</td>\n",
       "        </tr>\n",
       "        <tr>\n",
       "            <td>62</td>\n",
       "            <td>WEST ELSDON</td>\n",
       "            <td>3</td>\n",
       "            <td>1233.333333</td>\n",
       "        </tr>\n",
       "        <tr>\n",
       "            <td>58</td>\n",
       "            <td>BRIGHTON PARK</td>\n",
       "            <td>8</td>\n",
       "            <td>1205.875000</td>\n",
       "        </tr>\n",
       "        <tr>\n",
       "            <td>19</td>\n",
       "            <td>BELMONT CRAGIN</td>\n",
       "            <td>12</td>\n",
       "            <td>1198.833333</td>\n",
       "        </tr>\n",
       "    </tbody>\n",
       "</table>"
      ],
      "text/plain": [
       "[(57, 'ARCHER HEIGHTS', Decimal('2'), Decimal('2411.500000')),\n",
       " (18, 'MONTCLARE', Decimal('1'), Decimal('1317.000000')),\n",
       " (62, 'WEST ELSDON', Decimal('3'), Decimal('1233.333333')),\n",
       " (58, 'BRIGHTON PARK', Decimal('8'), Decimal('1205.875000')),\n",
       " (19, 'BELMONT CRAGIN', Decimal('12'), Decimal('1198.833333'))]"
      ]
     },
     "execution_count": 25,
     "metadata": {},
     "output_type": "execute_result"
    }
   ],
   "source": [
    "%%sql select \"COMMUNITY_AREA_NUMBER\",\"COMMUNITY_AREA_NAME\",count(*) as total_amount_of_schools, avg(college_enrollment) as average_COLLEGE_ENROLLMENT\n",
    "    from \"CHICAGO_PUBLIC_SCHOOL\" group by \"COMMUNITY_AREA_NUMBER\",\"COMMUNITY_AREA_NAME\"\n",
    "    order by average_COLLEGE_ENROLLMENT desc limit 5"
   ]
  },
  {
   "cell_type": "code",
   "execution_count": 26,
   "metadata": {},
   "outputs": [
    {
     "name": "stdout",
     "output_type": "stream",
     "text": [
      " * ibm_db_sa://hqf25277:***@dashdb-txn-sbox-yp-lon02-04.services.eu-gb.bluemix.net:50000/BLUDB\n",
      "Done.\n"
     ]
    },
    {
     "data": {
      "text/html": [
       "<table>\n",
       "    <thead>\n",
       "        <tr>\n",
       "            <th>c_num</th>\n",
       "            <th>c_name</th>\n",
       "        </tr>\n",
       "    </thead>\n",
       "    <tbody>\n",
       "        <tr>\n",
       "            <td>40</td>\n",
       "            <td>WASHINGTON PARK</td>\n",
       "        </tr>\n",
       "    </tbody>\n",
       "</table>"
      ],
      "text/plain": [
       "[(40, 'WASHINGTON PARK')]"
      ]
     },
     "execution_count": 26,
     "metadata": {},
     "output_type": "execute_result"
    }
   ],
   "source": [
    "%sql select community_area_number as c_num,community_area_name as c_name from CHICAGO_PUBLIC_SCHOOL \\\n",
    "    where safety_score = (select min(safety_score) from CHICAGO_PUBLIC_SCHOOL)"
   ]
  },
  {
   "cell_type": "code",
   "execution_count": 27,
   "metadata": {},
   "outputs": [
    {
     "name": "stdout",
     "output_type": "stream",
     "text": [
      " * ibm_db_sa://hqf25277:***@dashdb-txn-sbox-yp-lon02-04.services.eu-gb.bluemix.net:50000/BLUDB\n",
      "Done.\n"
     ]
    },
    {
     "data": {
      "text/html": [
       "<table>\n",
       "    <thead>\n",
       "        <tr>\n",
       "            <th>per_capita_income</th>\n",
       "        </tr>\n",
       "    </thead>\n",
       "    <tbody>\n",
       "        <tr>\n",
       "            <td>13785</td>\n",
       "        </tr>\n",
       "    </tbody>\n",
       "</table>"
      ],
      "text/plain": [
       "[(13785,)]"
      ]
     },
     "execution_count": 27,
     "metadata": {},
     "output_type": "execute_result"
    }
   ],
   "source": [
    "%sql select per_capita_income from CENSUS_DATA \\\n",
    "    where community_area_number = (select community_area_number from CHICAGO_PUBLIC_SCHOOL where safety_score = 1)"
   ]
  },
  {
   "cell_type": "code",
   "execution_count": null,
   "metadata": {},
   "outputs": [],
   "source": []
  }
 ],
 "metadata": {
  "kernelspec": {
   "display_name": "Python",
   "language": "python",
   "name": "conda-env-python-py"
  },
  "language_info": {
   "codemirror_mode": {
    "name": "ipython",
    "version": 3
   },
   "file_extension": ".py",
   "mimetype": "text/x-python",
   "name": "python",
   "nbconvert_exporter": "python",
   "pygments_lexer": "ipython3",
   "version": "3.6.12"
  }
 },
 "nbformat": 4,
 "nbformat_minor": 4
}
